{
 "cells": [
  {
   "cell_type": "markdown",
   "metadata": {},
   "source": [
    "\n",
    "Setting Fairness Goals with the TensorFlow Constrained Optimization Library \n",
    "Friday, February 21, 2020 \n",
    "\n",
    "\n",
    "    1.專案的目標？ (要解決什麼問題）\n",
    "    如何設定合理的constraints，使我們的模型能夠有更好的優化。\n",
    "              \n",
    "    2.使用的技術是？ (只需知道名稱即可，例如：使用 CNN 卷積神經網路做影像分類)\n",
    "    We use TFCO to constrain the false positive rate for four sensitive topics (sexuality, gender identity, religion and race) to be within 2%. \n",
    "    3.資料來源？\n",
    "    Wiki talk page"
   ]
  }
 ],
 "metadata": {
  "kernelspec": {
   "display_name": "Python 3",
   "language": "python",
   "name": "python3"
  },
  "language_info": {
   "codemirror_mode": {
    "name": "ipython",
    "version": 3
   },
   "file_extension": ".py",
   "mimetype": "text/x-python",
   "name": "python",
   "nbconvert_exporter": "python",
   "pygments_lexer": "ipython3",
   "version": "3.7.4"
  }
 },
 "nbformat": 4,
 "nbformat_minor": 2
}
