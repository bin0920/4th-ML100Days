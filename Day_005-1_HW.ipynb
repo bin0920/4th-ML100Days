{
 "cells": [
  {
   "cell_type": "code",
   "execution_count": 29,
   "metadata": {},
   "outputs": [
    {
     "name": "stdout",
     "output_type": "stream",
     "text": [
      "  Counties  Num of People\n",
      "0   Taiwan       23000000\n",
      "1    China     1400000000\n",
      "2       US      400000000\n",
      "3  hailand       30000000\n"
     ]
    },
    {
     "data": {
      "text/plain": [
       "'China'"
      ]
     },
     "execution_count": 29,
     "metadata": {},
     "output_type": "execute_result"
    }
   ],
   "source": [
    "import pandas as pd\n",
    "\n",
    "Country = [\"Taiwan\",\"China\",\"US\",\"hailand\"]\n",
    "People = [23000000,1400000000,400000000,30000000]\n",
    "\n",
    "list_labels = [\"Counties\",\"Num of People\"]\n",
    "list_cols = [Country,People]\n",
    "\n",
    "zipped = list(zip(list_labels,list_cols))\n",
    "record = pd.DataFrame(dict(zipped))\n",
    "print(record)\n",
    "\n",
    "record[\"Counties\"][record[\"Num of People\"].idxmax()]\n",
    "\n",
    "\n",
    "\n"
   ]
  }
 ],
 "metadata": {
  "kernelspec": {
   "display_name": "Python 3",
   "language": "python",
   "name": "python3"
  },
  "language_info": {
   "codemirror_mode": {
    "name": "ipython",
    "version": 3
   },
   "file_extension": ".py",
   "mimetype": "text/x-python",
   "name": "python",
   "nbconvert_exporter": "python",
   "pygments_lexer": "ipython3",
   "version": "3.7.4"
  }
 },
 "nbformat": 4,
 "nbformat_minor": 2
}
